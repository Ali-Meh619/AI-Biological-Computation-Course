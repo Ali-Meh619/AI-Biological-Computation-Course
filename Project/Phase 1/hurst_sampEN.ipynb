{
 "cells": [
  {
   "cell_type": "code",
   "execution_count": 2,
   "metadata": {},
   "outputs": [],
   "source": [
    "\n",
    " \n",
    "import numpy as np\n",
    "import warnings\n",
    " \n",
    "\n",
    "\n",
    "\n",
    "def sampen(L, m, r):\n",
    "    N = len(L)\n",
    "    B = 0.0\n",
    "    A = 0.0\n",
    "\n",
    "    # Split time series and save all templates of length m\n",
    "    xmi = np.array([L[i : i + m] for i in range(N - m)])\n",
    "    xmj = np.array([L[i : i + m] for i in range(N - m + 1)])\n",
    "\n",
    "    # Save all matches minus the self-match, compute B\n",
    "    B = np.sum([np.sum(np.abs(xmii - xmj).max(axis=1) <= r) - 1 for xmii in xmi])\n",
    "\n",
    "    # Similar for computing A\n",
    "    m += 1\n",
    "    xm = np.array([L[i : i + m] for i in range(N - m + 1)])\n",
    "\n",
    "    A = np.sum([np.sum(np.abs(xmi - xm).max(axis=1) <= r) - 1 for xmi in xm])\n",
    "\n",
    "    # Return SampEn\n",
    "    return -np.log(A / B)\n",
    "\n"
   ]
  },
  {
   "cell_type": "code",
   "execution_count": 2,
   "metadata": {},
   "outputs": [],
   "source": [
    "import numpy as np\n",
    "import warnings\n",
    " \n",
    "def genhurst(S,q):\n",
    "\n",
    "    L=len(S)       \n",
    "   \n",
    "       \n",
    "    H = np.zeros((len(range(5,20)),1))\n",
    "    k = 0\n",
    "    \n",
    "    for Tmax in range(5,20):\n",
    "        \n",
    "        x = np.arange(1,Tmax+1,1)\n",
    "        mcord = np.zeros((Tmax,1))\n",
    "        \n",
    "        for tt in range(1,Tmax+1):\n",
    "            \n",
    "            dV = S[np.arange(tt,L,tt)] - S[np.arange(tt,L,tt)-tt] \n",
    "            VV = S[np.arange(tt,L+tt,tt)-tt]\n",
    "            N = len(dV) + 1\n",
    "            X = np.arange(1,N+1,dtype=np.float64)\n",
    "            Y = VV\n",
    "            mx = np.sum(X)/N\n",
    "            SSxx = np.sum(X**2) - N*mx**2\n",
    "            my = np.sum(Y)/N\n",
    "            SSxy = np.sum( np.multiply(X,Y))  - N*mx*my\n",
    "            cc1 = SSxy/SSxx\n",
    "            cc2 = my - cc1*mx\n",
    "            ddVd = dV - cc1\n",
    "            VVVd = VV - np.multiply(cc1,np.arange(1,N+1,dtype=np.float64)) - cc2\n",
    "            mcord[tt-1] = np.mean( np.abs(ddVd)**q )/np.mean( np.abs(VVVd)**q )\n",
    "            \n",
    "        mx = np.mean(np.log10(x))\n",
    "        SSxx = np.sum( np.log10(x)**2) - Tmax*mx**2\n",
    "        my = np.mean(np.log10(mcord))\n",
    "        SSxy = np.sum( np.multiply(np.log10(x),np.transpose(np.log10(mcord)))) - Tmax*mx*my\n",
    "        H[k] = SSxy/SSxx\n",
    "        k = k + 1\n",
    "        \n",
    "    mH = np.mean(H)/q\n",
    "    \n",
    "    return mH"
   ]
  },
  {
   "cell_type": "code",
   "execution_count": 3,
   "metadata": {},
   "outputs": [],
   "source": [
    "from scipy.io import loadmat\n",
    "import scipy.io\n",
    "\n",
    "\n",
    "\n",
    "hur= loadmat('Entropy')"
   ]
  },
  {
   "cell_type": "code",
   "execution_count": null,
   "metadata": {},
   "outputs": [],
   "source": []
  },
  {
   "cell_type": "code",
   "execution_count": 20,
   "metadata": {},
   "outputs": [],
   "source": [
    "k=loadmat('lead_filtered')"
   ]
  },
  {
   "cell_type": "code",
   "execution_count": 21,
   "metadata": {},
   "outputs": [
    {
     "name": "stdout",
     "output_type": "stream",
     "text": [
      "[ 28  39  45 ... 258 259 259]\n"
     ]
    }
   ],
   "source": [
    "import numpy as np\n",
    "data = list(k.values());\n",
    "\n",
    "f=data[3]\n",
    "print(f[0][0][0][0][0][0])"
   ]
  },
  {
   "cell_type": "code",
   "execution_count": 31,
   "metadata": {},
   "outputs": [],
   "source": [
    "hur=np.zeros([1,529])\n",
    "\n",
    "\n",
    "\n",
    "    \n",
    "    \n"
   ]
  },
  {
   "cell_type": "code",
   "execution_count": 32,
   "metadata": {},
   "outputs": [],
   "source": [
    "for i in range(1,530,1):\n",
    "        \n",
    "    r=f[0][11][0][i-1][1][0]\n",
    "    a=0.2*np.std(r)\n",
    "    hur[0,i-1]=sampen(r,3,a)"
   ]
  },
  {
   "cell_type": "code",
   "execution_count": 9,
   "metadata": {},
   "outputs": [],
   "source": [
    "scipy.io.savemat('c:/Users/Ali Mehrabian/Entropy_1.mat', mdict={'samp_En':hur})"
   ]
  },
  {
   "cell_type": "code",
   "execution_count": 29,
   "metadata": {},
   "outputs": [
    {
     "name": "stdout",
     "output_type": "stream",
     "text": [
      "389\n"
     ]
    }
   ],
   "source": [
    "print(i)"
   ]
  }
 ],
 "metadata": {
  "kernelspec": {
   "display_name": "Python 3",
   "language": "python",
   "name": "python3"
  },
  "language_info": {
   "codemirror_mode": {
    "name": "ipython",
    "version": 3
   },
   "file_extension": ".py",
   "mimetype": "text/x-python",
   "name": "python",
   "nbconvert_exporter": "python",
   "pygments_lexer": "ipython3",
   "version": "3.7.4"
  }
 },
 "nbformat": 4,
 "nbformat_minor": 2
}
