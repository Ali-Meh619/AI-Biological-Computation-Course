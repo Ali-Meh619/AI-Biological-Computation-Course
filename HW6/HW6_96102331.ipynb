{
 "cells": [
  {
   "cell_type": "code",
   "execution_count": 1,
   "metadata": {},
   "outputs": [],
   "source": [
    "from deap import gp\n",
    "import operator\n",
    "from deap import base\n",
    "from deap import creator\n",
    "from deap import tools\n",
    "import random"
   ]
  },
  {
   "cell_type": "code",
   "execution_count": 2,
   "metadata": {},
   "outputs": [],
   "source": [
    "pset = gp.PrimitiveSetTyped(\"main\",(bool,bool,bool),(bool))\n",
    "pset.addPrimitive(operator.and_,(bool,bool),bool)\n",
    "pset.addPrimitive(operator.or_,(bool,bool),bool)\n",
    "pset.addPrimitive(operator.not_,[bool],bool)\n",
    "pset.renameArguments(ARG0=\"x1\")\n",
    "pset.renameArguments(ARG1=\"x2\")\n",
    "pset.renameArguments(ARG2=\"x3\")\n"
   ]
  },
  {
   "cell_type": "code",
   "execution_count": 51,
   "metadata": {},
   "outputs": [
    {
     "name": "stdout",
     "output_type": "stream",
     "text": [
      "or_(x1, x3) and_(and_(x1, x1), not_(x2))\n"
     ]
    }
   ],
   "source": [
    "toolbox = base.Toolbox()\n",
    "creator.create(\"FitnessMin\", base.Fitness, weights=(-1.0,-1))\n",
    "creator.create(\"Individual\", gp.PrimitiveTree, fitness=creator.FitnessMin,pset=pset)\n",
    "toolbox.register(\"expr\", gp.genFull, pset=pset, min_=1, max_=2)\n",
    "toolbox.register(\"individual\", tools.initIterate, creator.Individual,toolbox.expr)\n",
    "\n",
    "t1_ful= toolbox.individual()\n",
    "t2_ful=toolbox.individual()\n",
    "\n",
    "print(str(t1_ful),str(t2_ful))\n"
   ]
  },
  {
   "cell_type": "code",
   "execution_count": 52,
   "metadata": {},
   "outputs": [
    {
     "name": "stdout",
     "output_type": "stream",
     "text": [
      "or_(x2, x3) not_(x1)\n"
     ]
    }
   ],
   "source": [
    "toolbox = base.Toolbox()\n",
    "toolbox.register(\"expr\", gp. genGrow, pset=pset, min_=1, max_=2)\n",
    "toolbox.register(\"individual\", tools.initIterate, creator.Individual,toolbox.expr)\n",
    "\n",
    "t1_grow= toolbox.individual()\n",
    "t2_grow=toolbox.individual()\n",
    "\n",
    "print(str(t1_grow),str(t2_grow))\n"
   ]
  },
  {
   "cell_type": "code",
   "execution_count": 5,
   "metadata": {},
   "outputs": [],
   "source": [
    "def fitness(a,b,c,d):\n",
    "    tree=[a,b,c,d]\n",
    "    tx=[[0,0,0],[1,0,0],[1,1,0],[1,0,1],[1,1,1],[0,1,1],[0,1,0],[0,0,1]]\n",
    "    ty=[0,1,0,1,1,1,0,0]\n",
    "    score=[]\n",
    "    for i in range(4):\n",
    "        \n",
    "        f=gp.compile(tree[i],pset)\n",
    "        yy=[]\n",
    "\n",
    "        for j in range(8):            \n",
    "            yy.append(f(tx[j][0],tx[j][1],tx[j][2]))\n",
    "    \n",
    "        score.append((tree[i],len([m for m, n in zip(yy,ty) if m == n])/8))\n",
    "        \n",
    "    return score\n",
    "\n",
    "def takeSecond(elem):\n",
    "    \n",
    "    return elem[1]"
   ]
  },
  {
   "cell_type": "code",
   "execution_count": 69,
   "metadata": {},
   "outputs": [
    {
     "name": "stdout",
     "output_type": "stream",
     "text": [
      "or_(x1, x3)\n"
     ]
    }
   ],
   "source": [
    "a1=t1_ful\n",
    "a2=t2_ful\n",
    "a3=t1_grow\n",
    "a4=t2_grow\n",
    "\n",
    "for u in range(100):\n",
    "    \n",
    "    q=fitness(a1,a2,a3,a4)\n",
    "    q.sort(key=takeSecond)\n",
    "    a1=q[3][0]\n",
    "    a2=q[2][0]\n",
    "    (a3,a4)=gp.cxOnePointLeafBiased(a1,a2,random.uniform(0,1))\n",
    "    \n",
    "    \n",
    "print(a1)"
   ]
  }
 ],
 "metadata": {
  "kernelspec": {
   "display_name": "Python 3",
   "language": "python",
   "name": "python3"
  },
  "language_info": {
   "codemirror_mode": {
    "name": "ipython",
    "version": 3
   },
   "file_extension": ".py",
   "mimetype": "text/x-python",
   "name": "python",
   "nbconvert_exporter": "python",
   "pygments_lexer": "ipython3",
   "version": "3.7.4"
  }
 },
 "nbformat": 4,
 "nbformat_minor": 2
}
